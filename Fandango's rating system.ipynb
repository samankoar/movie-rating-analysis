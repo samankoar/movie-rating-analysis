{
 "cells": [
  {
   "cell_type": "markdown",
   "metadata": {},
   "source": [
    "#  Did Fandango's rating system change after Walt Hickey exposure?\n",
    "\n",
    "### We are going two use to data set to research this issue.One data set https://github.com/fivethirtyeight/data/tree/master/fandango before Hickey's article and the other one https://github.com/mircealex/Movie_ratings_2016_17 from after his article.\n"
   ]
  },
  {
   "cell_type": "code",
   "execution_count": 1,
   "metadata": {
    "collapsed": true
   },
   "outputs": [],
   "source": [
    "import pandas as pd"
   ]
  },
  {
   "cell_type": "code",
   "execution_count": 2,
   "metadata": {},
   "outputs": [],
   "source": [
    "Hick_data_orig = pd.read_csv('fandango_score_comparison.csv')\n",
    "us_data_orig = pd.read_csv('movie_ratings_16_17.csv')"
   ]
  },
  {
   "cell_type": "code",
   "execution_count": 3,
   "metadata": {},
   "outputs": [
    {
     "name": "stdout",
     "output_type": "stream",
     "text": [
      "<class 'pandas.core.frame.DataFrame'>\n",
      "RangeIndex: 146 entries, 0 to 145\n",
      "Data columns (total 22 columns):\n",
      "FILM                          146 non-null object\n",
      "RottenTomatoes                146 non-null int64\n",
      "RottenTomatoes_User           146 non-null int64\n",
      "Metacritic                    146 non-null int64\n",
      "Metacritic_User               146 non-null float64\n",
      "IMDB                          146 non-null float64\n",
      "Fandango_Stars                146 non-null float64\n",
      "Fandango_Ratingvalue          146 non-null float64\n",
      "RT_norm                       146 non-null float64\n",
      "RT_user_norm                  146 non-null float64\n",
      "Metacritic_norm               146 non-null float64\n",
      "Metacritic_user_nom           146 non-null float64\n",
      "IMDB_norm                     146 non-null float64\n",
      "RT_norm_round                 146 non-null float64\n",
      "RT_user_norm_round            146 non-null float64\n",
      "Metacritic_norm_round         146 non-null float64\n",
      "Metacritic_user_norm_round    146 non-null float64\n",
      "IMDB_norm_round               146 non-null float64\n",
      "Metacritic_user_vote_count    146 non-null int64\n",
      "IMDB_user_vote_count          146 non-null int64\n",
      "Fandango_votes                146 non-null int64\n",
      "Fandango_Difference           146 non-null float64\n",
      "dtypes: float64(15), int64(6), object(1)\n",
      "memory usage: 25.2+ KB\n",
      "(146, 22)\n"
     ]
    }
   ],
   "source": [
    "Hick_data_orig.info()\n",
    "print(Hick_data_orig.shape)"
   ]
  },
  {
   "cell_type": "code",
   "execution_count": 4,
   "metadata": {},
   "outputs": [
    {
     "name": "stdout",
     "output_type": "stream",
     "text": [
      "<class 'pandas.core.frame.DataFrame'>\n",
      "RangeIndex: 214 entries, 0 to 213\n",
      "Data columns (total 15 columns):\n",
      "movie           214 non-null object\n",
      "year            214 non-null int64\n",
      "metascore       214 non-null int64\n",
      "imdb            214 non-null float64\n",
      "tmeter          214 non-null int64\n",
      "audience        214 non-null int64\n",
      "fandango        214 non-null float64\n",
      "n_metascore     214 non-null float64\n",
      "n_imdb          214 non-null float64\n",
      "n_tmeter        214 non-null float64\n",
      "n_audience      214 non-null float64\n",
      "nr_metascore    214 non-null float64\n",
      "nr_imdb         214 non-null float64\n",
      "nr_tmeter       214 non-null float64\n",
      "nr_audience     214 non-null float64\n",
      "dtypes: float64(10), int64(4), object(1)\n",
      "memory usage: 25.2+ KB\n",
      "(214, 15)\n"
     ]
    }
   ],
   "source": [
    "us_data_orig.info()\n",
    "print(us_data_orig.shape)"
   ]
  },
  {
   "cell_type": "markdown",
   "metadata": {},
   "source": [
    "we only choose those data which provide information about Fandango "
   ]
  },
  {
   "cell_type": "code",
   "execution_count": 5,
   "metadata": {},
   "outputs": [
    {
     "data": {
      "text/plain": [
       "(146, 5)"
      ]
     },
     "execution_count": 5,
     "metadata": {},
     "output_type": "execute_result"
    }
   ],
   "source": [
    "Hick_data = Hick_data_orig[['FILM', 'Fandango_Stars', 'Fandango_Ratingvalue', 'Fandango_votes', 'Fandango_Difference']]\n",
    "Hick_data.shape"
   ]
  },
  {
   "cell_type": "code",
   "execution_count": 6,
   "metadata": {},
   "outputs": [
    {
     "data": {
      "text/plain": [
       "(214, 3)"
      ]
     },
     "execution_count": 6,
     "metadata": {},
     "output_type": "execute_result"
    }
   ],
   "source": [
    "us_data = us_data_orig[['movie', 'year', 'fandango']]\n",
    "us_data.shape"
   ]
  },
  {
   "cell_type": "markdown",
   "metadata": {},
   "source": [
    "From Hickey's article and from the README.md of the data set's repository, we can see that he used the following sampling criteria:\n",
    "The movie must have had at least 30 fan ratings on Fandango's website at the time of sampling (Aug. 24, 2015).\n",
    "The movie must have had tickets on sale in 2015.  \n",
    "\n",
    "**FILM**: The film in question  \n",
    "**Fandango_Stars**: The number of stars the film had on its Fandango movie page  \n",
    "**Fandango_Ratingvalue**:The Fandango ratingValue for the film, as pulled from the HTML of each page. This is the actual average score the movie obtained.  \n",
    "**Fandango_votes**:The number of user votes the film had on Fandango  \n",
    "**Fandango_Difference**:The difference between the presented Fandango_Stars and the actual Fandango_Ratingvalue  \n",
    "    "
   ]
  },
  {
   "cell_type": "markdown",
   "metadata": {},
   "source": [
    "### us_data\n",
    "\n",
    "The sampling conditions for our other sample were (as it can be read in the README.md of the data set's repository):\n",
    "The movie must have been released in 2016 or later.\n",
    "The movie must have had a considerable number of votes and reviews (unclear how many from the README.md or from the data).\n",
    "\n",
    "\n",
    "**movie**    ：   the name of the movie  \n",
    "**year**     ：  the release year of the movie  \n",
    "**fandango** ： the Fandango rating of the movie (user score)　　\n"
   ]
  },
  {
   "cell_type": "markdown",
   "metadata": {
    "collapsed": true
   },
   "source": [
    "those don't seem too useful for us.So,lets change the gole.\n",
    "Our new goal is to determine whether there's any difference between Fandango's ratings for popular movies in 2015 and Fandango's ratings for popular movies in 2016. This new goal should also be a fairly good proxy for our initial goal.\n"
   ]
  },
  {
   "cell_type": "markdown",
   "metadata": {},
   "source": [
    "### we define popular movie as those have 30 fan rating or more on Fandango's websire.\n",
    "\n",
    "Lets's check whether this sample contains enough popular movies as to be representative."
   ]
  },
  {
   "cell_type": "code",
   "execution_count": 7,
   "metadata": {},
   "outputs": [
    {
     "data": {
      "text/html": [
       "<div>\n",
       "<style scoped>\n",
       "    .dataframe tbody tr th:only-of-type {\n",
       "        vertical-align: middle;\n",
       "    }\n",
       "\n",
       "    .dataframe tbody tr th {\n",
       "        vertical-align: top;\n",
       "    }\n",
       "\n",
       "    .dataframe thead th {\n",
       "        text-align: right;\n",
       "    }\n",
       "</style>\n",
       "<table border=\"1\" class=\"dataframe\">\n",
       "  <thead>\n",
       "    <tr style=\"text-align: right;\">\n",
       "      <th></th>\n",
       "      <th>movie</th>\n",
       "      <th>year</th>\n",
       "      <th>fandango</th>\n",
       "    </tr>\n",
       "  </thead>\n",
       "  <tbody>\n",
       "    <tr>\n",
       "      <th>108</th>\n",
       "      <td>Mechanic: Resurrection</td>\n",
       "      <td>2016</td>\n",
       "      <td>4.0</td>\n",
       "    </tr>\n",
       "    <tr>\n",
       "      <th>206</th>\n",
       "      <td>Warcraft</td>\n",
       "      <td>2016</td>\n",
       "      <td>4.0</td>\n",
       "    </tr>\n",
       "    <tr>\n",
       "      <th>106</th>\n",
       "      <td>Max Steel</td>\n",
       "      <td>2016</td>\n",
       "      <td>3.5</td>\n",
       "    </tr>\n",
       "    <tr>\n",
       "      <th>107</th>\n",
       "      <td>Me Before You</td>\n",
       "      <td>2016</td>\n",
       "      <td>4.5</td>\n",
       "    </tr>\n",
       "    <tr>\n",
       "      <th>51</th>\n",
       "      <td>Fantastic Beasts and Where to Find Them</td>\n",
       "      <td>2016</td>\n",
       "      <td>4.5</td>\n",
       "    </tr>\n",
       "    <tr>\n",
       "      <th>33</th>\n",
       "      <td>Cell</td>\n",
       "      <td>2016</td>\n",
       "      <td>3.0</td>\n",
       "    </tr>\n",
       "    <tr>\n",
       "      <th>59</th>\n",
       "      <td>Genius</td>\n",
       "      <td>2016</td>\n",
       "      <td>3.5</td>\n",
       "    </tr>\n",
       "    <tr>\n",
       "      <th>152</th>\n",
       "      <td>Sully</td>\n",
       "      <td>2016</td>\n",
       "      <td>4.5</td>\n",
       "    </tr>\n",
       "    <tr>\n",
       "      <th>4</th>\n",
       "      <td>A Hologram for the King</td>\n",
       "      <td>2016</td>\n",
       "      <td>3.0</td>\n",
       "    </tr>\n",
       "    <tr>\n",
       "      <th>31</th>\n",
       "      <td>Captain America: Civil War</td>\n",
       "      <td>2016</td>\n",
       "      <td>4.5</td>\n",
       "    </tr>\n",
       "  </tbody>\n",
       "</table>\n",
       "</div>"
      ],
      "text/plain": [
       "                                       movie  year  fandango\n",
       "108                   Mechanic: Resurrection  2016       4.0\n",
       "206                                 Warcraft  2016       4.0\n",
       "106                                Max Steel  2016       3.5\n",
       "107                            Me Before You  2016       4.5\n",
       "51   Fantastic Beasts and Where to Find Them  2016       4.5\n",
       "33                                      Cell  2016       3.0\n",
       "59                                    Genius  2016       3.5\n",
       "152                                    Sully  2016       4.5\n",
       "4                    A Hologram for the King  2016       3.0\n",
       "31                Captain America: Civil War  2016       4.5"
      ]
     },
     "execution_count": 7,
     "metadata": {},
     "output_type": "execute_result"
    }
   ],
   "source": [
    "us_data.sample(10, random_state = 1)"
   ]
  },
  {
   "cell_type": "code",
   "execution_count": 8,
   "metadata": {},
   "outputs": [
    {
     "data": {
      "text/html": [
       "<div>\n",
       "<style scoped>\n",
       "    .dataframe tbody tr th:only-of-type {\n",
       "        vertical-align: middle;\n",
       "    }\n",
       "\n",
       "    .dataframe tbody tr th {\n",
       "        vertical-align: top;\n",
       "    }\n",
       "\n",
       "    .dataframe thead th {\n",
       "        text-align: right;\n",
       "    }\n",
       "</style>\n",
       "<table border=\"1\" class=\"dataframe\">\n",
       "  <thead>\n",
       "    <tr style=\"text-align: right;\">\n",
       "      <th></th>\n",
       "      <th>FILM</th>\n",
       "      <th>Fandango_Stars</th>\n",
       "      <th>Fandango_Ratingvalue</th>\n",
       "      <th>Fandango_votes</th>\n",
       "      <th>Fandango_Difference</th>\n",
       "    </tr>\n",
       "  </thead>\n",
       "  <tbody>\n",
       "    <tr>\n",
       "      <th>98</th>\n",
       "      <td>Get Hard (2015)</td>\n",
       "      <td>4.0</td>\n",
       "      <td>3.9</td>\n",
       "      <td>5933</td>\n",
       "      <td>0.1</td>\n",
       "    </tr>\n",
       "    <tr>\n",
       "      <th>66</th>\n",
       "      <td>The Gift (2015)</td>\n",
       "      <td>4.0</td>\n",
       "      <td>3.7</td>\n",
       "      <td>2680</td>\n",
       "      <td>0.3</td>\n",
       "    </tr>\n",
       "    <tr>\n",
       "      <th>53</th>\n",
       "      <td>Hot Pursuit (2015)</td>\n",
       "      <td>4.0</td>\n",
       "      <td>3.7</td>\n",
       "      <td>2618</td>\n",
       "      <td>0.3</td>\n",
       "    </tr>\n",
       "    <tr>\n",
       "      <th>75</th>\n",
       "      <td>San Andreas (2015)</td>\n",
       "      <td>4.5</td>\n",
       "      <td>4.3</td>\n",
       "      <td>9749</td>\n",
       "      <td>0.2</td>\n",
       "    </tr>\n",
       "    <tr>\n",
       "      <th>121</th>\n",
       "      <td>The Stanford Prison Experiment (2015)</td>\n",
       "      <td>4.0</td>\n",
       "      <td>3.9</td>\n",
       "      <td>51</td>\n",
       "      <td>0.1</td>\n",
       "    </tr>\n",
       "    <tr>\n",
       "      <th>74</th>\n",
       "      <td>The Hobbit: The Battle of the Five Armies (2014)</td>\n",
       "      <td>4.5</td>\n",
       "      <td>4.3</td>\n",
       "      <td>15337</td>\n",
       "      <td>0.2</td>\n",
       "    </tr>\n",
       "    <tr>\n",
       "      <th>119</th>\n",
       "      <td>Phoenix (2015)</td>\n",
       "      <td>3.5</td>\n",
       "      <td>3.4</td>\n",
       "      <td>70</td>\n",
       "      <td>0.1</td>\n",
       "    </tr>\n",
       "    <tr>\n",
       "      <th>128</th>\n",
       "      <td>Mission: Impossible â€“ Rogue Nation (2015)</td>\n",
       "      <td>4.5</td>\n",
       "      <td>4.4</td>\n",
       "      <td>8357</td>\n",
       "      <td>0.1</td>\n",
       "    </tr>\n",
       "    <tr>\n",
       "      <th>44</th>\n",
       "      <td>Kingsman: The Secret Service (2015)</td>\n",
       "      <td>4.5</td>\n",
       "      <td>4.2</td>\n",
       "      <td>15205</td>\n",
       "      <td>0.3</td>\n",
       "    </tr>\n",
       "    <tr>\n",
       "      <th>58</th>\n",
       "      <td>Seventh Son (2015)</td>\n",
       "      <td>3.5</td>\n",
       "      <td>3.2</td>\n",
       "      <td>1213</td>\n",
       "      <td>0.3</td>\n",
       "    </tr>\n",
       "  </tbody>\n",
       "</table>\n",
       "</div>"
      ],
      "text/plain": [
       "                                                 FILM  Fandango_Stars  \\\n",
       "98                                    Get Hard (2015)             4.0   \n",
       "66                                    The Gift (2015)             4.0   \n",
       "53                                 Hot Pursuit (2015)             4.0   \n",
       "75                                 San Andreas (2015)             4.5   \n",
       "121             The Stanford Prison Experiment (2015)             4.0   \n",
       "74   The Hobbit: The Battle of the Five Armies (2014)             4.5   \n",
       "119                                    Phoenix (2015)             3.5   \n",
       "128       Mission: Impossible â€“ Rogue Nation (2015)             4.5   \n",
       "44                Kingsman: The Secret Service (2015)             4.5   \n",
       "58                                 Seventh Son (2015)             3.5   \n",
       "\n",
       "     Fandango_Ratingvalue  Fandango_votes  Fandango_Difference  \n",
       "98                    3.9            5933                  0.1  \n",
       "66                    3.7            2680                  0.3  \n",
       "53                    3.7            2618                  0.3  \n",
       "75                    4.3            9749                  0.2  \n",
       "121                   3.9              51                  0.1  \n",
       "74                    4.3           15337                  0.2  \n",
       "119                   3.4              70                  0.1  \n",
       "128                   4.4            8357                  0.1  \n",
       "44                    4.2           15205                  0.3  \n",
       "58                    3.2            1213                  0.3  "
      ]
     },
     "execution_count": 8,
     "metadata": {},
     "output_type": "execute_result"
    }
   ],
   "source": [
    "Hick_data.sample(10,random_state=1)"
   ]
  },
  {
   "cell_type": "code",
   "execution_count": 9,
   "metadata": {},
   "outputs": [
    {
     "data": {
      "text/plain": [
       "0"
      ]
     },
     "execution_count": 9,
     "metadata": {},
     "output_type": "execute_result"
    }
   ],
   "source": [
    "sum(Hick_data['Fandango_votes'] < 30)"
   ]
  },
  {
   "cell_type": "markdown",
   "metadata": {},
   "source": [
    "all the Hick_data are from popular movies"
   ]
  },
  {
   "cell_type": "markdown",
   "metadata": {},
   "source": [
    "# Isolate our data\n",
    "If you explore the data sets enough, you'll notice that some movies were not released in 2015 and 2016. We need to isolate only the sample points that belong to our populations of interest.\n",
    "- Isolate the movies released in 2015 in a separate data set.\n",
    "- Isolate the movies released in 2016 in another separate data set.\n",
    "These are the data sets we'll use next to perform our analysis."
   ]
  },
  {
   "cell_type": "markdown",
   "metadata": {},
   "source": [
    "there is no Year column in Hick_data's,but we can extract it from name column"
   ]
  },
  {
   "cell_type": "code",
   "execution_count": 10,
   "metadata": {},
   "outputs": [
    {
     "name": "stderr",
     "output_type": "stream",
     "text": [
      "/dataquest/system/env/python3/lib/python3.4/site-packages/ipykernel/__main__.py:1: SettingWithCopyWarning: \n",
      "A value is trying to be set on a copy of a slice from a DataFrame.\n",
      "Try using .loc[row_indexer,col_indexer] = value instead\n",
      "\n",
      "See the caveats in the documentation: http://pandas.pydata.org/pandas-docs/stable/indexing.html#indexing-view-versus-copy\n",
      "  if __name__ == '__main__':\n"
     ]
    },
    {
     "data": {
      "text/html": [
       "<div>\n",
       "<style scoped>\n",
       "    .dataframe tbody tr th:only-of-type {\n",
       "        vertical-align: middle;\n",
       "    }\n",
       "\n",
       "    .dataframe tbody tr th {\n",
       "        vertical-align: top;\n",
       "    }\n",
       "\n",
       "    .dataframe thead th {\n",
       "        text-align: right;\n",
       "    }\n",
       "</style>\n",
       "<table border=\"1\" class=\"dataframe\">\n",
       "  <thead>\n",
       "    <tr style=\"text-align: right;\">\n",
       "      <th></th>\n",
       "      <th>FILM</th>\n",
       "      <th>Fandango_Stars</th>\n",
       "      <th>Fandango_Ratingvalue</th>\n",
       "      <th>Fandango_votes</th>\n",
       "      <th>Fandango_Difference</th>\n",
       "      <th>Year</th>\n",
       "    </tr>\n",
       "  </thead>\n",
       "  <tbody>\n",
       "    <tr>\n",
       "      <th>0</th>\n",
       "      <td>Avengers: Age of Ultron (2015)</td>\n",
       "      <td>5.0</td>\n",
       "      <td>4.5</td>\n",
       "      <td>14846</td>\n",
       "      <td>0.5</td>\n",
       "      <td>2015</td>\n",
       "    </tr>\n",
       "    <tr>\n",
       "      <th>1</th>\n",
       "      <td>Cinderella (2015)</td>\n",
       "      <td>5.0</td>\n",
       "      <td>4.5</td>\n",
       "      <td>12640</td>\n",
       "      <td>0.5</td>\n",
       "      <td>2015</td>\n",
       "    </tr>\n",
       "  </tbody>\n",
       "</table>\n",
       "</div>"
      ],
      "text/plain": [
       "                             FILM  Fandango_Stars  Fandango_Ratingvalue  \\\n",
       "0  Avengers: Age of Ultron (2015)             5.0                   4.5   \n",
       "1               Cinderella (2015)             5.0                   4.5   \n",
       "\n",
       "   Fandango_votes  Fandango_Difference  Year  \n",
       "0           14846                  0.5  2015  \n",
       "1           12640                  0.5  2015  "
      ]
     },
     "execution_count": 10,
     "metadata": {},
     "output_type": "execute_result"
    }
   ],
   "source": [
    "Hick_data['Year']=Hick_data['FILM'].str[-5:-1]\n",
    "Hick_data.head(2)"
   ]
  },
  {
   "cell_type": "code",
   "execution_count": 11,
   "metadata": {},
   "outputs": [
    {
     "data": {
      "text/plain": [
       "array(['2015', '2014'], dtype=object)"
      ]
     },
     "execution_count": 11,
     "metadata": {},
     "output_type": "execute_result"
    }
   ],
   "source": [
    "Hick_data['Year'].unique()"
   ]
  },
  {
   "cell_type": "code",
   "execution_count": 12,
   "metadata": {},
   "outputs": [
    {
     "data": {
      "text/plain": [
       "2015    129\n",
       "2014     17\n",
       "Name: Year, dtype: int64"
      ]
     },
     "execution_count": 12,
     "metadata": {},
     "output_type": "execute_result"
    }
   ],
   "source": [
    "Hick_data['Year'].value_counts()"
   ]
  },
  {
   "cell_type": "code",
   "execution_count": 13,
   "metadata": {},
   "outputs": [
    {
     "data": {
      "text/plain": [
       "2015    129\n",
       "Name: Year, dtype: int64"
      ]
     },
     "execution_count": 13,
     "metadata": {},
     "output_type": "execute_result"
    }
   ],
   "source": [
    "Hick_data_2015 = Hick_data[Hick_data['Year'] == '2015'].copy()\n",
    "Hick_data_2015['Year'].value_counts()"
   ]
  },
  {
   "cell_type": "code",
   "execution_count": 14,
   "metadata": {},
   "outputs": [
    {
     "data": {
      "text/plain": [
       "2016    191\n",
       "2017     23\n",
       "Name: year, dtype: int64"
      ]
     },
     "execution_count": 14,
     "metadata": {},
     "output_type": "execute_result"
    }
   ],
   "source": [
    "us_data['year'].value_counts()"
   ]
  },
  {
   "cell_type": "code",
   "execution_count": 15,
   "metadata": {},
   "outputs": [
    {
     "data": {
      "text/plain": [
       "2016    191\n",
       "Name: year, dtype: int64"
      ]
     },
     "execution_count": 15,
     "metadata": {},
     "output_type": "execute_result"
    }
   ],
   "source": [
    "us_data_2016 = us_data[us_data['year'] == 2016].copy()\n",
    "us_data_2016['year'].value_counts()"
   ]
  },
  {
   "cell_type": "code",
   "execution_count": 32,
   "metadata": {},
   "outputs": [
    {
     "data": {
      "image/png": "[encoded data removed]",
      "text/plain": [
       "<matplotlib.figure.Figure at 0x7ff85ce94b38>"
      ]
     },
     "metadata": {},
     "output_type": "display_data"
    }
   ],
   "source": [
    "import matplotlib.pyplot as plt\n",
    "import numpy as np\n",
    "%matplotlib inline\n",
    "\n",
    "plt.style.use('ggplot')\n",
    "ax = plt.subplot(111)\n",
    "Hick_data_2015['Fandango_Stars'].plot.kde(label='2015',legend=True,color='blue',linewidth=3.0)\n",
    "us_data_2016['fandango'].plot.kde(label='2016',legend=True,color='orange',linewidth=3.0)\n",
    "ax.set_xlim(0,5.0)\n",
    "ax.set_xticks(np.arange(0,5.5,0.5))\n",
    "# ax.grid('on')\n",
    "ax.spines['right'].set_visible(False)\n",
    "ax.spines['left'].set_visible(False)\n",
    "ax.spines['top'].set_visible(False)\n",
    "ax.yaxis.set_ticks_position('left')\n",
    "ax.xaxis.set_ticks_position('bottom')\n",
    "plt.show()"
   ]
  },
  {
   "cell_type": "markdown",
   "metadata": {},
   "source": [
    "- both distributions are left skewed\n",
    "- 2016 rating distribution peak is more on left side\n",
    "- the Fandango obviously changed its rating system from 2015"
   ]
  },
  {
   "cell_type": "markdown",
   "metadata": {},
   "source": [
    "# Examine the frequency distribution tables"
   ]
  },
  {
   "cell_type": "code",
   "execution_count": 17,
   "metadata": {},
   "outputs": [
    {
     "data": {
      "text/html": [
       "<div>\n",
       "<style scoped>\n",
       "    .dataframe tbody tr th:only-of-type {\n",
       "        vertical-align: middle;\n",
       "    }\n",
       "\n",
       "    .dataframe tbody tr th {\n",
       "        vertical-align: top;\n",
       "    }\n",
       "\n",
       "    .dataframe thead th {\n",
       "        text-align: right;\n",
       "    }\n",
       "</style>\n",
       "<table border=\"1\" class=\"dataframe\">\n",
       "  <thead>\n",
       "    <tr style=\"text-align: right;\">\n",
       "      <th></th>\n",
       "      <th>Fandango_Stars</th>\n",
       "      <th>Fandango_Ratingvalue</th>\n",
       "      <th>Fandango_votes</th>\n",
       "      <th>Fandango_Difference</th>\n",
       "    </tr>\n",
       "  </thead>\n",
       "  <tbody>\n",
       "    <tr>\n",
       "      <th>count</th>\n",
       "      <td>129.000000</td>\n",
       "      <td>129.000000</td>\n",
       "      <td>129.000000</td>\n",
       "      <td>129.000000</td>\n",
       "    </tr>\n",
       "    <tr>\n",
       "      <th>mean</th>\n",
       "      <td>4.085271</td>\n",
       "      <td>3.846512</td>\n",
       "      <td>3761.891473</td>\n",
       "      <td>0.238760</td>\n",
       "    </tr>\n",
       "    <tr>\n",
       "      <th>std</th>\n",
       "      <td>0.538096</td>\n",
       "      <td>0.505446</td>\n",
       "      <td>6543.601748</td>\n",
       "      <td>0.152741</td>\n",
       "    </tr>\n",
       "    <tr>\n",
       "      <th>min</th>\n",
       "      <td>3.000000</td>\n",
       "      <td>2.700000</td>\n",
       "      <td>35.000000</td>\n",
       "      <td>0.000000</td>\n",
       "    </tr>\n",
       "    <tr>\n",
       "      <th>25%</th>\n",
       "      <td>3.500000</td>\n",
       "      <td>3.500000</td>\n",
       "      <td>210.000000</td>\n",
       "      <td>0.100000</td>\n",
       "    </tr>\n",
       "    <tr>\n",
       "      <th>50%</th>\n",
       "      <td>4.000000</td>\n",
       "      <td>3.900000</td>\n",
       "      <td>1415.000000</td>\n",
       "      <td>0.200000</td>\n",
       "    </tr>\n",
       "    <tr>\n",
       "      <th>75%</th>\n",
       "      <td>4.500000</td>\n",
       "      <td>4.200000</td>\n",
       "      <td>4045.000000</td>\n",
       "      <td>0.400000</td>\n",
       "    </tr>\n",
       "    <tr>\n",
       "      <th>max</th>\n",
       "      <td>5.000000</td>\n",
       "      <td>4.800000</td>\n",
       "      <td>34846.000000</td>\n",
       "      <td>0.500000</td>\n",
       "    </tr>\n",
       "  </tbody>\n",
       "</table>\n",
       "</div>"
      ],
      "text/plain": [
       "       Fandango_Stars  Fandango_Ratingvalue  Fandango_votes  \\\n",
       "count      129.000000            129.000000      129.000000   \n",
       "mean         4.085271              3.846512     3761.891473   \n",
       "std          0.538096              0.505446     6543.601748   \n",
       "min          3.000000              2.700000       35.000000   \n",
       "25%          3.500000              3.500000      210.000000   \n",
       "50%          4.000000              3.900000     1415.000000   \n",
       "75%          4.500000              4.200000     4045.000000   \n",
       "max          5.000000              4.800000    34846.000000   \n",
       "\n",
       "       Fandango_Difference  \n",
       "count           129.000000  \n",
       "mean              0.238760  \n",
       "std               0.152741  \n",
       "min               0.000000  \n",
       "25%               0.100000  \n",
       "50%               0.200000  \n",
       "75%               0.400000  \n",
       "max               0.500000  "
      ]
     },
     "execution_count": 17,
     "metadata": {},
     "output_type": "execute_result"
    }
   ],
   "source": [
    "Hick_data_2015.describe()"
   ]
  },
  {
   "cell_type": "code",
   "execution_count": 18,
   "metadata": {},
   "outputs": [
    {
     "data": {
      "text/html": [
       "<div>\n",
       "<style scoped>\n",
       "    .dataframe tbody tr th:only-of-type {\n",
       "        vertical-align: middle;\n",
       "    }\n",
       "\n",
       "    .dataframe tbody tr th {\n",
       "        vertical-align: top;\n",
       "    }\n",
       "\n",
       "    .dataframe thead th {\n",
       "        text-align: right;\n",
       "    }\n",
       "</style>\n",
       "<table border=\"1\" class=\"dataframe\">\n",
       "  <thead>\n",
       "    <tr style=\"text-align: right;\">\n",
       "      <th></th>\n",
       "      <th>year</th>\n",
       "      <th>fandango</th>\n",
       "    </tr>\n",
       "  </thead>\n",
       "  <tbody>\n",
       "    <tr>\n",
       "      <th>count</th>\n",
       "      <td>191.0</td>\n",
       "      <td>191.000000</td>\n",
       "    </tr>\n",
       "    <tr>\n",
       "      <th>mean</th>\n",
       "      <td>2016.0</td>\n",
       "      <td>3.887435</td>\n",
       "    </tr>\n",
       "    <tr>\n",
       "      <th>std</th>\n",
       "      <td>0.0</td>\n",
       "      <td>0.509540</td>\n",
       "    </tr>\n",
       "    <tr>\n",
       "      <th>min</th>\n",
       "      <td>2016.0</td>\n",
       "      <td>2.500000</td>\n",
       "    </tr>\n",
       "    <tr>\n",
       "      <th>25%</th>\n",
       "      <td>2016.0</td>\n",
       "      <td>3.500000</td>\n",
       "    </tr>\n",
       "    <tr>\n",
       "      <th>50%</th>\n",
       "      <td>2016.0</td>\n",
       "      <td>4.000000</td>\n",
       "    </tr>\n",
       "    <tr>\n",
       "      <th>75%</th>\n",
       "      <td>2016.0</td>\n",
       "      <td>4.250000</td>\n",
       "    </tr>\n",
       "    <tr>\n",
       "      <th>max</th>\n",
       "      <td>2016.0</td>\n",
       "      <td>5.000000</td>\n",
       "    </tr>\n",
       "  </tbody>\n",
       "</table>\n",
       "</div>"
      ],
      "text/plain": [
       "         year    fandango\n",
       "count   191.0  191.000000\n",
       "mean   2016.0    3.887435\n",
       "std       0.0    0.509540\n",
       "min    2016.0    2.500000\n",
       "25%    2016.0    3.500000\n",
       "50%    2016.0    4.000000\n",
       "75%    2016.0    4.250000\n",
       "max    2016.0    5.000000"
      ]
     },
     "execution_count": 18,
     "metadata": {},
     "output_type": "execute_result"
    }
   ],
   "source": [
    "us_data_2016.describe()"
   ]
  },
  {
   "cell_type": "code",
   "execution_count": 19,
   "metadata": {},
   "outputs": [
    {
     "name": "stdout",
     "output_type": "stream",
     "text": [
      "2015\n",
      "----------------\n",
      "3.0     8.527132\n",
      "3.5    17.829457\n",
      "4.0    28.682171\n",
      "4.5    37.984496\n",
      "5.0     6.976744\n",
      "Name: Fandango_Stars, dtype: float64\n"
     ]
    }
   ],
   "source": [
    "abs_freq_15=Hick_data_2015['Fandango_Stars'].value_counts().sort_index()\n",
    "rel_freq_15=abs_freq_15 / len(Hick_data_2015)\n",
    "print('2015' + '\\n' + '-' * 16)\n",
    "print(rel_freq_15*100)"
   ]
  },
  {
   "cell_type": "code",
   "execution_count": 20,
   "metadata": {},
   "outputs": [
    {
     "data": {
      "text/plain": [
       "8.527131782945736"
      ]
     },
     "execution_count": 20,
     "metadata": {},
     "output_type": "execute_result"
    }
   ],
   "source": [
    "# percentage_3=rel_freq_15[3.0]*100\n",
    "# percentage_3\n",
    "percentage_under3_15=rel_freq_15[:3].sum()*100\n",
    "percentage_under3_15"
   ]
  },
  {
   "cell_type": "code",
   "execution_count": 21,
   "metadata": {},
   "outputs": [
    {
     "data": {
      "text/plain": [
       "73.64341085271319"
      ]
     },
     "execution_count": 21,
     "metadata": {},
     "output_type": "execute_result"
    }
   ],
   "source": [
    "percentage_over4_15=rel_freq_15[4:].sum()*100\n",
    "percentage_over4_15"
   ]
  },
  {
   "cell_type": "code",
   "execution_count": 22,
   "metadata": {},
   "outputs": [
    {
     "name": "stdout",
     "output_type": "stream",
     "text": [
      "2016\n",
      "----------------\n",
      "2.5     3.141361\n",
      "3.0     7.329843\n",
      "3.5    24.083770\n",
      "4.0    40.314136\n",
      "4.5    24.607330\n",
      "5.0     0.523560\n",
      "Name: fandango, dtype: float64\n"
     ]
    }
   ],
   "source": [
    "abs_freq_16=us_data_2016['fandango'].value_counts().sort_index()\n",
    "rel_freq_16=abs_freq_16 / len(us_data_2016)\n",
    "print('2016' + '\\n' + '-' * 16)\n",
    "print(rel_freq_16*100)"
   ]
  },
  {
   "cell_type": "code",
   "execution_count": 23,
   "metadata": {},
   "outputs": [
    {
     "data": {
      "text/plain": [
       "10.471204188481675"
      ]
     },
     "execution_count": 23,
     "metadata": {},
     "output_type": "execute_result"
    }
   ],
   "source": [
    "percentage_under3_16=rel_freq_16[:3].sum()*100\n",
    "percentage_under3_16"
   ]
  },
  {
   "cell_type": "code",
   "execution_count": 24,
   "metadata": {},
   "outputs": [
    {
     "data": {
      "text/plain": [
       "65.44502617801047"
      ]
     },
     "execution_count": 24,
     "metadata": {},
     "output_type": "execute_result"
    }
   ],
   "source": [
    "percentage_over4_16=rel_freq_16[4:].sum()*100\n",
    "percentage_over4_16"
   ]
  },
  {
   "cell_type": "markdown",
   "metadata": {},
   "source": [
    "In deta before 2015,we have 8.5% of films rated 3 or less but in 2016,we have a 10.5% of films rated 3 or less.\n",
    "In deta before 2015,we have 77% of films rated 4 or over but in 2016,we have a 65% of films rated 4 or over.\n",
    "\n",
    "So here we can confirm again that in 2016 the movies have a lower rated trend. "
   ]
  },
  {
   "cell_type": "code",
   "execution_count": 25,
   "metadata": {},
   "outputs": [
    {
     "name": "stdout",
     "output_type": "stream",
     "text": [
      "4.0852713178294575\n",
      "4.0\n",
      "4.5\n"
     ]
    }
   ],
   "source": [
    "mean_2015=Hick_data_2015['Fandango_Stars'].mean()\n",
    "print(mean_2015)\n",
    "median_2015=Hick_data_2015['Fandango_Stars'].median()\n",
    "print(median_2015)\n",
    "mode_2015=Hick_data_2015['Fandango_Stars'].mode()[0]\n",
    "print(mode_2015)"
   ]
  },
  {
   "cell_type": "code",
   "execution_count": 26,
   "metadata": {},
   "outputs": [
    {
     "name": "stdout",
     "output_type": "stream",
     "text": [
      "3.887434554973822\n",
      "4.0\n",
      "4.0\n"
     ]
    }
   ],
   "source": [
    "mean_2016=us_data_2016['fandango'].mean()\n",
    "print(mean_2016)\n",
    "median_2016=us_data_2016['fandango'].median()\n",
    "print(median_2016)\n",
    "mode_2016=us_data_2016['fandango'].mode()[0]\n",
    "print(mode_2016)"
   ]
  },
  {
   "cell_type": "code",
   "execution_count": 27,
   "metadata": {},
   "outputs": [
    {
     "data": {
      "text/html": [
       "<div>\n",
       "<style scoped>\n",
       "    .dataframe tbody tr th:only-of-type {\n",
       "        vertical-align: middle;\n",
       "    }\n",
       "\n",
       "    .dataframe tbody tr th {\n",
       "        vertical-align: top;\n",
       "    }\n",
       "\n",
       "    .dataframe thead th {\n",
       "        text-align: right;\n",
       "    }\n",
       "</style>\n",
       "<table border=\"1\" class=\"dataframe\">\n",
       "  <thead>\n",
       "    <tr style=\"text-align: right;\">\n",
       "      <th></th>\n",
       "      <th>2015</th>\n",
       "      <th>2016</th>\n",
       "    </tr>\n",
       "  </thead>\n",
       "  <tbody>\n",
       "    <tr>\n",
       "      <th>mean</th>\n",
       "      <td>4.085271</td>\n",
       "      <td>3.887435</td>\n",
       "    </tr>\n",
       "    <tr>\n",
       "      <th>median</th>\n",
       "      <td>4.000000</td>\n",
       "      <td>4.000000</td>\n",
       "    </tr>\n",
       "    <tr>\n",
       "      <th>mode</th>\n",
       "      <td>4.500000</td>\n",
       "      <td>4.000000</td>\n",
       "    </tr>\n",
       "  </tbody>\n",
       "</table>\n",
       "</div>"
      ],
      "text/plain": [
       "            2015      2016\n",
       "mean    4.085271  3.887435\n",
       "median  4.000000  4.000000\n",
       "mode    4.500000  4.000000"
      ]
     },
     "execution_count": 27,
     "metadata": {},
     "output_type": "execute_result"
    }
   ],
   "source": [
    "summary = pd.DataFrame()\n",
    "summary[2015]=[mean_2015,median_2015,mode_2015]\n",
    "summary[2016]=[mean_2016,median_2016,mode_2016]\n",
    "summary.index=['mean','median','mode']\n",
    "summary"
   ]
  },
  {
   "cell_type": "code",
   "execution_count": 35,
   "metadata": {},
   "outputs": [
    {
     "data": {
      "text/plain": [
       "<matplotlib.legend.Legend at 0x7ff8517ac630>"
      ]
     },
     "execution_count": 35,
     "metadata": {},
     "output_type": "execute_result"
    },
    {
     "data": {
      "image/png": "[encoded data removed]",
      "text/plain": [
       "<matplotlib.figure.Figure at 0x7ff8518a4128>"
      ]
     },
     "metadata": {},
     "output_type": "display_data"
    }
   ],
   "source": [
    "plt.style.use('ggplot')\n",
    "summary[2015].plot.bar(color='blue',align='center',label=2015,\n",
    "                       rot=0,width=0.3)\n",
    "summary[2016].plot.bar(color='orange',align='edge',label=2016,\n",
    "                       rot=0,width=0.3)\n",
    "plt.title('Comparing summary statistics: 2015 vs 2016',y=1.05)\n",
    "plt.ylim(0,5.5)\n",
    "plt.yticks(np.arange(0,5.1,0.5))\n",
    "plt.ylabel('Stars')\n",
    "plt.legend(framealpha=0, loc='upper center')"
   ]
  },
  {
   "cell_type": "code",
   "execution_count": 29,
   "metadata": {},
   "outputs": [
    {
     "data": {
      "text/plain": [
       "0.05089134236421066"
      ]
     },
     "execution_count": 29,
     "metadata": {},
     "output_type": "execute_result"
    }
   ],
   "source": [
    "(mean_2015 - mean_2016)/ mean_2016"
   ]
  },
  {
   "cell_type": "markdown",
   "metadata": {},
   "source": [
    "the median is the same for both distributions, the mode is lower in 2016 by 0.5. \n"
   ]
  },
  {
   "cell_type": "markdown",
   "metadata": {},
   "source": [
    "# Conclusion"
   ]
  },
  {
   "cell_type": "markdown",
   "metadata": {
    "collapsed": true
   },
   "source": [
    "we showed that Fandango rating system is actually different from what they had on 2015.\n",
    "we still don't know what is the cause of this change."
   ]
  },
  {
   "cell_type": "code",
   "execution_count": null,
   "metadata": {
    "collapsed": true
   },
   "outputs": [],
   "source": []
  }
 ],
 "metadata": {
  "kernelspec": {
   "display_name": "Python 3",
   "language": "python",
   "name": "python3"
  },
  "language_info": {
   "codemirror_mode": {
    "name": "ipython",
    "version": 3
   },
   "file_extension": ".py",
   "mimetype": "text/x-python",
   "name": "python",
   "nbconvert_exporter": "python",
   "pygments_lexer": "ipython3",
   "version": "3.8.3"
  }
 },
 "nbformat": 4,
 "nbformat_minor": 2
}
